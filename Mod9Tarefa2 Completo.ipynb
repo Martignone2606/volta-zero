{
 "cells": [
  {
   "cell_type": "markdown",
   "metadata": {
    "id": "eYvCczy6lTt7"
   },
   "source": [
    "# Livro para consulta:\n",
    "- https://jakevdp.github.io/PythonDataScienceHandbook/03.08-aggregation-and-grouping.html\n",
    "- https://jakevdp.github.io/PythonDataScienceHandbook/03.09-pivot-tables.html\n",
    "    "
   ]
  },
  {
   "cell_type": "markdown",
   "metadata": {
    "id": "oeWprAfnlTt-"
   },
   "source": [
    "# 1. Importando bibliotecas <a name=\"import\"></a>\n",
    "\n",
    "<div style=\"text-align: right\"\n",
    "     \n",
    "[Voltar ao índice](#Contents)"
   ]
  },
  {
   "cell_type": "code",
   "execution_count": 2,
   "metadata": {
    "ExecuteTime": {
     "end_time": "2021-06-06T21:12:37.298706Z",
     "start_time": "2021-06-06T21:12:36.656481Z"
    },
    "id": "y_9gYudilTt_"
   },
   "outputs": [],
   "source": [
    "import numpy as np\n",
    "import pandas as pd\n",
    "import seaborn as sns\n",
    "import matplotlib.pyplot as plt\n",
    "\n",
    "%matplotlib inline"
   ]
  },
  {
   "cell_type": "markdown",
   "metadata": {
    "id": "-cpxC-IBlTuA"
   },
   "source": [
    "# 2. Carregando o dataframe SINASC <a name=\"read\"></a>\n",
    "<div style=\"text-align: right\"\n",
    "     \n",
    "[Voltar ao índice](#Contents)"
   ]
  },
  {
   "cell_type": "code",
   "execution_count": 3,
   "metadata": {
    "ExecuteTime": {
     "end_time": "2021-06-06T21:12:37.762376Z",
     "start_time": "2021-06-06T21:12:37.728383Z"
    },
    "id": "nQZn7u4DlTuB",
    "outputId": "74b44036-69d9-4139-b291-621d77ed331b",
    "scrolled": true
   },
   "outputs": [
    {
     "data": {
      "text/html": [
       "<div>\n",
       "<style scoped>\n",
       "    .dataframe tbody tr th:only-of-type {\n",
       "        vertical-align: middle;\n",
       "    }\n",
       "\n",
       "    .dataframe tbody tr th {\n",
       "        vertical-align: top;\n",
       "    }\n",
       "\n",
       "    .dataframe thead th {\n",
       "        text-align: right;\n",
       "    }\n",
       "</style>\n",
       "<table border=\"1\" class=\"dataframe\">\n",
       "  <thead>\n",
       "    <tr style=\"text-align: right;\">\n",
       "      <th></th>\n",
       "      <th>ORIGEM</th>\n",
       "      <th>CODESTAB</th>\n",
       "      <th>CODMUNNASC</th>\n",
       "      <th>LOCNASC</th>\n",
       "      <th>IDADEMAE</th>\n",
       "      <th>ESTCIVMAE</th>\n",
       "      <th>ESCMAE</th>\n",
       "      <th>CODOCUPMAE</th>\n",
       "      <th>QTDFILVIVO</th>\n",
       "      <th>QTDFILMORT</th>\n",
       "      <th>...</th>\n",
       "      <th>KOTELCHUCK</th>\n",
       "      <th>CONTADOR</th>\n",
       "      <th>munResStatus</th>\n",
       "      <th>munResTipo</th>\n",
       "      <th>munResNome</th>\n",
       "      <th>munResUf</th>\n",
       "      <th>munResLat</th>\n",
       "      <th>munResLon</th>\n",
       "      <th>munResAlt</th>\n",
       "      <th>munResArea</th>\n",
       "    </tr>\n",
       "  </thead>\n",
       "  <tbody>\n",
       "    <tr>\n",
       "      <th>0</th>\n",
       "      <td>1</td>\n",
       "      <td>2679477.0</td>\n",
       "      <td>110001</td>\n",
       "      <td>1</td>\n",
       "      <td>19</td>\n",
       "      <td>5.0</td>\n",
       "      <td>8 a 11 anos</td>\n",
       "      <td>NaN</td>\n",
       "      <td>0.0</td>\n",
       "      <td>0.0</td>\n",
       "      <td>...</td>\n",
       "      <td>5</td>\n",
       "      <td>1</td>\n",
       "      <td>ATIVO</td>\n",
       "      <td>MUNIC</td>\n",
       "      <td>Alta Floresta D'Oeste</td>\n",
       "      <td>Rondônia</td>\n",
       "      <td>-11.93554</td>\n",
       "      <td>-61.99982</td>\n",
       "      <td>338.0</td>\n",
       "      <td>7067.025</td>\n",
       "    </tr>\n",
       "    <tr>\n",
       "      <th>1</th>\n",
       "      <td>1</td>\n",
       "      <td>2679477.0</td>\n",
       "      <td>110001</td>\n",
       "      <td>1</td>\n",
       "      <td>29</td>\n",
       "      <td>2.0</td>\n",
       "      <td>8 a 11 anos</td>\n",
       "      <td>999992.0</td>\n",
       "      <td>1.0</td>\n",
       "      <td>0.0</td>\n",
       "      <td>...</td>\n",
       "      <td>5</td>\n",
       "      <td>2</td>\n",
       "      <td>ATIVO</td>\n",
       "      <td>MUNIC</td>\n",
       "      <td>Alta Floresta D'Oeste</td>\n",
       "      <td>Rondônia</td>\n",
       "      <td>-11.93554</td>\n",
       "      <td>-61.99982</td>\n",
       "      <td>338.0</td>\n",
       "      <td>7067.025</td>\n",
       "    </tr>\n",
       "    <tr>\n",
       "      <th>2</th>\n",
       "      <td>1</td>\n",
       "      <td>2679477.0</td>\n",
       "      <td>110001</td>\n",
       "      <td>1</td>\n",
       "      <td>37</td>\n",
       "      <td>9.0</td>\n",
       "      <td>8 a 11 anos</td>\n",
       "      <td>513205.0</td>\n",
       "      <td>2.0</td>\n",
       "      <td>0.0</td>\n",
       "      <td>...</td>\n",
       "      <td>5</td>\n",
       "      <td>3</td>\n",
       "      <td>ATIVO</td>\n",
       "      <td>MUNIC</td>\n",
       "      <td>Alta Floresta D'Oeste</td>\n",
       "      <td>Rondônia</td>\n",
       "      <td>-11.93554</td>\n",
       "      <td>-61.99982</td>\n",
       "      <td>338.0</td>\n",
       "      <td>7067.025</td>\n",
       "    </tr>\n",
       "    <tr>\n",
       "      <th>3</th>\n",
       "      <td>1</td>\n",
       "      <td>2516500.0</td>\n",
       "      <td>110001</td>\n",
       "      <td>1</td>\n",
       "      <td>30</td>\n",
       "      <td>5.0</td>\n",
       "      <td>12 anos ou mais</td>\n",
       "      <td>231205.0</td>\n",
       "      <td>0.0</td>\n",
       "      <td>0.0</td>\n",
       "      <td>...</td>\n",
       "      <td>4</td>\n",
       "      <td>4</td>\n",
       "      <td>ATIVO</td>\n",
       "      <td>MUNIC</td>\n",
       "      <td>Alto Alegre dos Parecis</td>\n",
       "      <td>Rondônia</td>\n",
       "      <td>-12.13178</td>\n",
       "      <td>-61.85308</td>\n",
       "      <td>397.0</td>\n",
       "      <td>3958.273</td>\n",
       "    </tr>\n",
       "    <tr>\n",
       "      <th>4</th>\n",
       "      <td>1</td>\n",
       "      <td>2516500.0</td>\n",
       "      <td>110001</td>\n",
       "      <td>1</td>\n",
       "      <td>30</td>\n",
       "      <td>2.0</td>\n",
       "      <td>8 a 11 anos</td>\n",
       "      <td>999992.0</td>\n",
       "      <td>1.0</td>\n",
       "      <td>0.0</td>\n",
       "      <td>...</td>\n",
       "      <td>5</td>\n",
       "      <td>5</td>\n",
       "      <td>ATIVO</td>\n",
       "      <td>MUNIC</td>\n",
       "      <td>Alta Floresta D'Oeste</td>\n",
       "      <td>Rondônia</td>\n",
       "      <td>-11.93554</td>\n",
       "      <td>-61.99982</td>\n",
       "      <td>338.0</td>\n",
       "      <td>7067.025</td>\n",
       "    </tr>\n",
       "  </tbody>\n",
       "</table>\n",
       "<p>5 rows × 69 columns</p>\n",
       "</div>"
      ],
      "text/plain": [
       "   ORIGEM   CODESTAB  CODMUNNASC  LOCNASC  IDADEMAE  ESTCIVMAE  \\\n",
       "0       1  2679477.0      110001        1        19        5.0   \n",
       "1       1  2679477.0      110001        1        29        2.0   \n",
       "2       1  2679477.0      110001        1        37        9.0   \n",
       "3       1  2516500.0      110001        1        30        5.0   \n",
       "4       1  2516500.0      110001        1        30        2.0   \n",
       "\n",
       "            ESCMAE  CODOCUPMAE  QTDFILVIVO  QTDFILMORT  ...  KOTELCHUCK  \\\n",
       "0      8 a 11 anos         NaN         0.0         0.0  ...           5   \n",
       "1      8 a 11 anos    999992.0         1.0         0.0  ...           5   \n",
       "2      8 a 11 anos    513205.0         2.0         0.0  ...           5   \n",
       "3  12 anos ou mais    231205.0         0.0         0.0  ...           4   \n",
       "4      8 a 11 anos    999992.0         1.0         0.0  ...           5   \n",
       "\n",
       "  CONTADOR munResStatus munResTipo               munResNome  munResUf  \\\n",
       "0        1        ATIVO      MUNIC    Alta Floresta D'Oeste  Rondônia   \n",
       "1        2        ATIVO      MUNIC    Alta Floresta D'Oeste  Rondônia   \n",
       "2        3        ATIVO      MUNIC    Alta Floresta D'Oeste  Rondônia   \n",
       "3        4        ATIVO      MUNIC  Alto Alegre dos Parecis  Rondônia   \n",
       "4        5        ATIVO      MUNIC    Alta Floresta D'Oeste  Rondônia   \n",
       "\n",
       "   munResLat munResLon  munResAlt  munResArea  \n",
       "0  -11.93554 -61.99982      338.0    7067.025  \n",
       "1  -11.93554 -61.99982      338.0    7067.025  \n",
       "2  -11.93554 -61.99982      338.0    7067.025  \n",
       "3  -12.13178 -61.85308      397.0    3958.273  \n",
       "4  -11.93554 -61.99982      338.0    7067.025  \n",
       "\n",
       "[5 rows x 69 columns]"
      ]
     },
     "execution_count": 3,
     "metadata": {},
     "output_type": "execute_result"
    }
   ],
   "source": [
    "sinasc_raw = pd.read_csv('SINASC_RO_2019.csv')\n",
    "sinasc_raw.head()"
   ]
  },
  {
   "cell_type": "markdown",
   "metadata": {
    "id": "9GOoel3-lTuD"
   },
   "source": [
    "# Tarefa 2"
   ]
  },
  {
   "cell_type": "markdown",
   "metadata": {
    "id": "iNNeWswTlTuD"
   },
   "source": [
    "### 1. Crie 2 faixas de Latitude do município (munResLat) sendo uma acima e outra abaixo de -10.5 e aplique o groupby usando essas faixas como chave e realize operações de soma, media, minimo, maximo, mediana, desvio padrao, variancia pra pelo menos 2 variáveis numéricas ainda não utilizadas"
   ]
  },
  {
   "cell_type": "code",
   "execution_count": 4,
   "metadata": {},
   "outputs": [
    {
     "data": {
      "text/html": [
       "<div>\n",
       "<style scoped>\n",
       "    .dataframe tbody tr th:only-of-type {\n",
       "        vertical-align: middle;\n",
       "    }\n",
       "\n",
       "    .dataframe tbody tr th {\n",
       "        vertical-align: top;\n",
       "    }\n",
       "\n",
       "    .dataframe thead tr th {\n",
       "        text-align: left;\n",
       "    }\n",
       "\n",
       "    .dataframe thead tr:last-of-type th {\n",
       "        text-align: right;\n",
       "    }\n",
       "</style>\n",
       "<table border=\"1\" class=\"dataframe\">\n",
       "  <thead>\n",
       "    <tr>\n",
       "      <th></th>\n",
       "      <th>min</th>\n",
       "      <th>max</th>\n",
       "    </tr>\n",
       "    <tr>\n",
       "      <th></th>\n",
       "      <th>munResLat</th>\n",
       "      <th>munResLat</th>\n",
       "    </tr>\n",
       "    <tr>\n",
       "      <th>ESCMAE</th>\n",
       "      <th></th>\n",
       "      <th></th>\n",
       "    </tr>\n",
       "  </thead>\n",
       "  <tbody>\n",
       "    <tr>\n",
       "      <th>1 a 3 anos</th>\n",
       "      <td>-13.47656</td>\n",
       "      <td>-8.76889</td>\n",
       "    </tr>\n",
       "    <tr>\n",
       "      <th>12 anos ou mais</th>\n",
       "      <td>-13.49976</td>\n",
       "      <td>-8.76889</td>\n",
       "    </tr>\n",
       "    <tr>\n",
       "      <th>4 a 7 anos</th>\n",
       "      <td>-13.49976</td>\n",
       "      <td>-8.76889</td>\n",
       "    </tr>\n",
       "    <tr>\n",
       "      <th>8 a 11 anos</th>\n",
       "      <td>-13.49976</td>\n",
       "      <td>-8.76889</td>\n",
       "    </tr>\n",
       "    <tr>\n",
       "      <th>Nenhuma</th>\n",
       "      <td>-12.74137</td>\n",
       "      <td>-8.76889</td>\n",
       "    </tr>\n",
       "  </tbody>\n",
       "</table>\n",
       "</div>"
      ],
      "text/plain": [
       "                      min       max\n",
       "                munResLat munResLat\n",
       "ESCMAE                             \n",
       "1 a 3 anos      -13.47656  -8.76889\n",
       "12 anos ou mais -13.49976  -8.76889\n",
       "4 a 7 anos      -13.49976  -8.76889\n",
       "8 a 11 anos     -13.49976  -8.76889\n",
       "Nenhuma         -12.74137  -8.76889"
      ]
     },
     "execution_count": 4,
     "metadata": {},
     "output_type": "execute_result"
    }
   ],
   "source": [
    "pd.pivot_table(data = sinasc_raw,\n",
    "               values = 'munResLat',\n",
    "               index = 'ESCMAE',\n",
    "               aggfunc = ['min', 'max'])"
   ]
  },
  {
   "cell_type": "code",
   "execution_count": 5,
   "metadata": {},
   "outputs": [
    {
     "data": {
      "text/plain": [
       "-13.49976"
      ]
     },
     "execution_count": 5,
     "metadata": {},
     "output_type": "execute_result"
    }
   ],
   "source": [
    "sinasc_raw['munResLat'].min()"
   ]
  },
  {
   "cell_type": "code",
   "execution_count": 6,
   "metadata": {},
   "outputs": [
    {
     "data": {
      "text/plain": [
       "-8.76889"
      ]
     },
     "execution_count": 6,
     "metadata": {},
     "output_type": "execute_result"
    }
   ],
   "source": [
    "sinasc_raw['munResLat'].max()"
   ]
  },
  {
   "cell_type": "code",
   "execution_count": 7,
   "metadata": {},
   "outputs": [],
   "source": [
    "sinasc_1 = sinasc_raw[['munResLat', 'IDADEMAE', 'IDADEPAI']].copy()\n",
    "sinasc_munResLat = pd.cut(sinasc_1['munResLat'],[-13.5,-10.5,-8.7])"
   ]
  },
  {
   "cell_type": "code",
   "execution_count": 8,
   "metadata": {},
   "outputs": [
    {
     "data": {
      "text/html": [
       "<div>\n",
       "<style scoped>\n",
       "    .dataframe tbody tr th:only-of-type {\n",
       "        vertical-align: middle;\n",
       "    }\n",
       "\n",
       "    .dataframe tbody tr th {\n",
       "        vertical-align: top;\n",
       "    }\n",
       "\n",
       "    .dataframe thead tr th {\n",
       "        text-align: left;\n",
       "    }\n",
       "\n",
       "    .dataframe thead tr:last-of-type th {\n",
       "        text-align: right;\n",
       "    }\n",
       "</style>\n",
       "<table border=\"1\" class=\"dataframe\">\n",
       "  <thead>\n",
       "    <tr>\n",
       "      <th></th>\n",
       "      <th colspan=\"7\" halign=\"left\">IDADEMAE</th>\n",
       "      <th colspan=\"7\" halign=\"left\">IDADEPAI</th>\n",
       "    </tr>\n",
       "    <tr>\n",
       "      <th></th>\n",
       "      <th>soma</th>\n",
       "      <th>media</th>\n",
       "      <th>min</th>\n",
       "      <th>max</th>\n",
       "      <th>mediana</th>\n",
       "      <th>desvio padrao</th>\n",
       "      <th>variancia</th>\n",
       "      <th>soma</th>\n",
       "      <th>media</th>\n",
       "      <th>min</th>\n",
       "      <th>max</th>\n",
       "      <th>mediana</th>\n",
       "      <th>desvio padrao</th>\n",
       "      <th>variancia</th>\n",
       "    </tr>\n",
       "    <tr>\n",
       "      <th>munResLat</th>\n",
       "      <th></th>\n",
       "      <th></th>\n",
       "      <th></th>\n",
       "      <th></th>\n",
       "      <th></th>\n",
       "      <th></th>\n",
       "      <th></th>\n",
       "      <th></th>\n",
       "      <th></th>\n",
       "      <th></th>\n",
       "      <th></th>\n",
       "      <th></th>\n",
       "      <th></th>\n",
       "      <th></th>\n",
       "    </tr>\n",
       "  </thead>\n",
       "  <tbody>\n",
       "    <tr>\n",
       "      <th>(-13.5, -10.5]</th>\n",
       "      <td>340143</td>\n",
       "      <td>26.178943</td>\n",
       "      <td>12</td>\n",
       "      <td>53</td>\n",
       "      <td>26.0</td>\n",
       "      <td>6.320385</td>\n",
       "      <td>39.947272</td>\n",
       "      <td>198460.0</td>\n",
       "      <td>30.903145</td>\n",
       "      <td>15.0</td>\n",
       "      <td>86.0</td>\n",
       "      <td>30.0</td>\n",
       "      <td>7.707002</td>\n",
       "      <td>59.397875</td>\n",
       "    </tr>\n",
       "    <tr>\n",
       "      <th>(-10.5, -8.7]</th>\n",
       "      <td>365094</td>\n",
       "      <td>26.014964</td>\n",
       "      <td>11</td>\n",
       "      <td>52</td>\n",
       "      <td>25.0</td>\n",
       "      <td>6.447663</td>\n",
       "      <td>41.572355</td>\n",
       "      <td>38038.0</td>\n",
       "      <td>32.126689</td>\n",
       "      <td>16.0</td>\n",
       "      <td>73.0</td>\n",
       "      <td>31.0</td>\n",
       "      <td>8.034214</td>\n",
       "      <td>64.548602</td>\n",
       "    </tr>\n",
       "  </tbody>\n",
       "</table>\n",
       "</div>"
      ],
      "text/plain": [
       "               IDADEMAE                                                      \\\n",
       "                   soma      media min max mediana desvio padrao  variancia   \n",
       "munResLat                                                                     \n",
       "(-13.5, -10.5]   340143  26.178943  12  53    26.0      6.320385  39.947272   \n",
       "(-10.5, -8.7]    365094  26.014964  11  52    25.0      6.447663  41.572355   \n",
       "\n",
       "                IDADEPAI                                               \\\n",
       "                    soma      media   min   max mediana desvio padrao   \n",
       "munResLat                                                               \n",
       "(-13.5, -10.5]  198460.0  30.903145  15.0  86.0    30.0      7.707002   \n",
       "(-10.5, -8.7]    38038.0  32.126689  16.0  73.0    31.0      8.034214   \n",
       "\n",
       "                           \n",
       "                variancia  \n",
       "munResLat                  \n",
       "(-13.5, -10.5]  59.397875  \n",
       "(-10.5, -8.7]   64.548602  "
      ]
     },
     "execution_count": 8,
     "metadata": {},
     "output_type": "execute_result"
    }
   ],
   "source": [
    "sinasc_1.groupby(sinasc_munResLat, observed=True)[['IDADEMAE', 'IDADEPAI']].agg([\n",
    "    ('soma', 'sum'), ('media', 'mean'), 'min', 'max', ('mediana', 'median'), ('desvio padrao', 'std'), ('variancia', 'var')\n",
    "])"
   ]
  },
  {
   "cell_type": "markdown",
   "metadata": {
    "id": "AK33D0mdlTuE"
   },
   "source": [
    "### 2. Crie 2 faixas da área dos municípios (munResArea) sendo uma acima e outra abaixo de 3000 e aplique o groupby usando essas faixas como chave e realize operações de soma, media, minimo, maximo, mediana, desvio padrao, variancia pra pelo menos 2 variáveis numéricas ainda não utilizadas\n"
   ]
  },
  {
   "cell_type": "code",
   "execution_count": 9,
   "metadata": {
    "id": "qqCXJtYIlTuE"
   },
   "outputs": [
    {
     "data": {
      "text/html": [
       "<div>\n",
       "<style scoped>\n",
       "    .dataframe tbody tr th:only-of-type {\n",
       "        vertical-align: middle;\n",
       "    }\n",
       "\n",
       "    .dataframe tbody tr th {\n",
       "        vertical-align: top;\n",
       "    }\n",
       "\n",
       "    .dataframe thead tr th {\n",
       "        text-align: left;\n",
       "    }\n",
       "\n",
       "    .dataframe thead tr:last-of-type th {\n",
       "        text-align: right;\n",
       "    }\n",
       "</style>\n",
       "<table border=\"1\" class=\"dataframe\">\n",
       "  <thead>\n",
       "    <tr>\n",
       "      <th></th>\n",
       "      <th>min</th>\n",
       "      <th>max</th>\n",
       "    </tr>\n",
       "    <tr>\n",
       "      <th></th>\n",
       "      <th>munResArea</th>\n",
       "      <th>munResArea</th>\n",
       "    </tr>\n",
       "    <tr>\n",
       "      <th>ESCMAE</th>\n",
       "      <th></th>\n",
       "      <th></th>\n",
       "    </tr>\n",
       "  </thead>\n",
       "  <tbody>\n",
       "    <tr>\n",
       "      <th>1 a 3 anos</th>\n",
       "      <td>459.978</td>\n",
       "      <td>34096.394</td>\n",
       "    </tr>\n",
       "    <tr>\n",
       "      <th>12 anos ou mais</th>\n",
       "      <td>459.978</td>\n",
       "      <td>34096.394</td>\n",
       "    </tr>\n",
       "    <tr>\n",
       "      <th>4 a 7 anos</th>\n",
       "      <td>459.978</td>\n",
       "      <td>34096.394</td>\n",
       "    </tr>\n",
       "    <tr>\n",
       "      <th>8 a 11 anos</th>\n",
       "      <td>459.978</td>\n",
       "      <td>34096.394</td>\n",
       "    </tr>\n",
       "    <tr>\n",
       "      <th>Nenhuma</th>\n",
       "      <td>831.857</td>\n",
       "      <td>34096.394</td>\n",
       "    </tr>\n",
       "  </tbody>\n",
       "</table>\n",
       "</div>"
      ],
      "text/plain": [
       "                       min        max\n",
       "                munResArea munResArea\n",
       "ESCMAE                               \n",
       "1 a 3 anos         459.978  34096.394\n",
       "12 anos ou mais    459.978  34096.394\n",
       "4 a 7 anos         459.978  34096.394\n",
       "8 a 11 anos        459.978  34096.394\n",
       "Nenhuma            831.857  34096.394"
      ]
     },
     "execution_count": 9,
     "metadata": {},
     "output_type": "execute_result"
    }
   ],
   "source": [
    "pd.pivot_table(data = sinasc_raw,\n",
    "               values = 'munResArea',\n",
    "               index = 'ESCMAE',\n",
    "               aggfunc = ['min', 'max'])"
   ]
  },
  {
   "cell_type": "code",
   "execution_count": 10,
   "metadata": {},
   "outputs": [
    {
     "data": {
      "text/plain": [
       "459.978"
      ]
     },
     "execution_count": 10,
     "metadata": {},
     "output_type": "execute_result"
    }
   ],
   "source": [
    "sinasc_raw['munResArea'].min()"
   ]
  },
  {
   "cell_type": "code",
   "execution_count": 11,
   "metadata": {},
   "outputs": [
    {
     "data": {
      "text/plain": [
       "34096.394"
      ]
     },
     "execution_count": 11,
     "metadata": {},
     "output_type": "execute_result"
    }
   ],
   "source": [
    "sinasc_raw['munResArea'].max()"
   ]
  },
  {
   "cell_type": "code",
   "execution_count": 12,
   "metadata": {},
   "outputs": [],
   "source": [
    "sinasc_2 = sinasc_raw[['munResArea', 'IDADEMAE', 'IDADEPAI']].copy()\n",
    "sinasc_munResArea = pd.cut(sinasc_2['munResArea'],[458,3000,34097])"
   ]
  },
  {
   "cell_type": "code",
   "execution_count": 13,
   "metadata": {},
   "outputs": [
    {
     "data": {
      "text/html": [
       "<div>\n",
       "<style scoped>\n",
       "    .dataframe tbody tr th:only-of-type {\n",
       "        vertical-align: middle;\n",
       "    }\n",
       "\n",
       "    .dataframe tbody tr th {\n",
       "        vertical-align: top;\n",
       "    }\n",
       "\n",
       "    .dataframe thead tr th {\n",
       "        text-align: left;\n",
       "    }\n",
       "\n",
       "    .dataframe thead tr:last-of-type th {\n",
       "        text-align: right;\n",
       "    }\n",
       "</style>\n",
       "<table border=\"1\" class=\"dataframe\">\n",
       "  <thead>\n",
       "    <tr>\n",
       "      <th></th>\n",
       "      <th colspan=\"7\" halign=\"left\">IDADEMAE</th>\n",
       "      <th colspan=\"7\" halign=\"left\">IDADEPAI</th>\n",
       "    </tr>\n",
       "    <tr>\n",
       "      <th></th>\n",
       "      <th>soma</th>\n",
       "      <th>media</th>\n",
       "      <th>min</th>\n",
       "      <th>max</th>\n",
       "      <th>mediana</th>\n",
       "      <th>desvio padrao</th>\n",
       "      <th>variancia</th>\n",
       "      <th>soma</th>\n",
       "      <th>media</th>\n",
       "      <th>min</th>\n",
       "      <th>max</th>\n",
       "      <th>mediana</th>\n",
       "      <th>desvio padrao</th>\n",
       "      <th>variancia</th>\n",
       "    </tr>\n",
       "    <tr>\n",
       "      <th>munResArea</th>\n",
       "      <th></th>\n",
       "      <th></th>\n",
       "      <th></th>\n",
       "      <th></th>\n",
       "      <th></th>\n",
       "      <th></th>\n",
       "      <th></th>\n",
       "      <th></th>\n",
       "      <th></th>\n",
       "      <th></th>\n",
       "      <th></th>\n",
       "      <th></th>\n",
       "      <th></th>\n",
       "      <th></th>\n",
       "    </tr>\n",
       "  </thead>\n",
       "  <tbody>\n",
       "    <tr>\n",
       "      <th>(458, 3000]</th>\n",
       "      <td>137389</td>\n",
       "      <td>26.324775</td>\n",
       "      <td>11</td>\n",
       "      <td>53</td>\n",
       "      <td>26.0</td>\n",
       "      <td>6.305535</td>\n",
       "      <td>39.759775</td>\n",
       "      <td>78074.0</td>\n",
       "      <td>31.092792</td>\n",
       "      <td>16.0</td>\n",
       "      <td>69.0</td>\n",
       "      <td>30.0</td>\n",
       "      <td>7.675474</td>\n",
       "      <td>58.912900</td>\n",
       "    </tr>\n",
       "    <tr>\n",
       "      <th>(3000, 34097]</th>\n",
       "      <td>567848</td>\n",
       "      <td>26.038518</td>\n",
       "      <td>12</td>\n",
       "      <td>53</td>\n",
       "      <td>25.0</td>\n",
       "      <td>6.405497</td>\n",
       "      <td>41.030387</td>\n",
       "      <td>158424.0</td>\n",
       "      <td>31.094014</td>\n",
       "      <td>15.0</td>\n",
       "      <td>86.0</td>\n",
       "      <td>30.0</td>\n",
       "      <td>7.818364</td>\n",
       "      <td>61.126809</td>\n",
       "    </tr>\n",
       "  </tbody>\n",
       "</table>\n",
       "</div>"
      ],
      "text/plain": [
       "              IDADEMAE                                                      \\\n",
       "                  soma      media min max mediana desvio padrao  variancia   \n",
       "munResArea                                                                   \n",
       "(458, 3000]     137389  26.324775  11  53    26.0      6.305535  39.759775   \n",
       "(3000, 34097]   567848  26.038518  12  53    25.0      6.405497  41.030387   \n",
       "\n",
       "               IDADEPAI                                               \\\n",
       "                   soma      media   min   max mediana desvio padrao   \n",
       "munResArea                                                             \n",
       "(458, 3000]     78074.0  31.092792  16.0  69.0    30.0      7.675474   \n",
       "(3000, 34097]  158424.0  31.094014  15.0  86.0    30.0      7.818364   \n",
       "\n",
       "                          \n",
       "               variancia  \n",
       "munResArea                \n",
       "(458, 3000]    58.912900  \n",
       "(3000, 34097]  61.126809  "
      ]
     },
     "execution_count": 13,
     "metadata": {},
     "output_type": "execute_result"
    }
   ],
   "source": [
    "sinasc_2.groupby(sinasc_munResArea, observed=True)[['IDADEMAE', 'IDADEPAI']].agg([\n",
    "    ('soma', 'sum'), ('media', 'mean'), 'min', 'max', ('mediana', 'median'), ('desvio padrao', 'std'), ('variancia', 'var')\n",
    "])"
   ]
  },
  {
   "cell_type": "markdown",
   "metadata": {
    "id": "aWaljnnxlTuE"
   },
   "source": [
    "### 3. Determine faixas na variável munResAlt e aplique o groupby usando essas faixas como chave e realize operações de soma, media, minimo, maximo, mediana, desvio padrao, variancia pra pelo menos 2 variáveis numéricas ainda não utilizadas"
   ]
  },
  {
   "cell_type": "code",
   "execution_count": 14,
   "metadata": {},
   "outputs": [
    {
     "data": {
      "text/plain": [
       "munResAlt\n",
       "(111.0, 177.0]     9762\n",
       "(84.999, 111.0]    9088\n",
       "(177.0, 595.0]     8177\n",
       "Name: count, dtype: int64"
      ]
     },
     "execution_count": 14,
     "metadata": {},
     "output_type": "execute_result"
    }
   ],
   "source": [
    "sinasc_3 = sinasc_raw[['munResAlt', 'IDADEMAE', 'IDADEPAI']].copy()\n",
    "sinasc_munResAlt = pd.qcut(sinasc_3['munResAlt'],3)\n",
    "sinasc_munResAlt.value_counts()"
   ]
  },
  {
   "cell_type": "code",
   "execution_count": 15,
   "metadata": {},
   "outputs": [
    {
     "data": {
      "text/html": [
       "<div>\n",
       "<style scoped>\n",
       "    .dataframe tbody tr th:only-of-type {\n",
       "        vertical-align: middle;\n",
       "    }\n",
       "\n",
       "    .dataframe tbody tr th {\n",
       "        vertical-align: top;\n",
       "    }\n",
       "\n",
       "    .dataframe thead tr th {\n",
       "        text-align: left;\n",
       "    }\n",
       "\n",
       "    .dataframe thead tr:last-of-type th {\n",
       "        text-align: right;\n",
       "    }\n",
       "</style>\n",
       "<table border=\"1\" class=\"dataframe\">\n",
       "  <thead>\n",
       "    <tr>\n",
       "      <th></th>\n",
       "      <th colspan=\"7\" halign=\"left\">IDADEMAE</th>\n",
       "      <th colspan=\"7\" halign=\"left\">IDADEPAI</th>\n",
       "    </tr>\n",
       "    <tr>\n",
       "      <th></th>\n",
       "      <th>soma</th>\n",
       "      <th>media</th>\n",
       "      <th>min</th>\n",
       "      <th>max</th>\n",
       "      <th>mediana</th>\n",
       "      <th>desvio padrao</th>\n",
       "      <th>variancia</th>\n",
       "      <th>soma</th>\n",
       "      <th>media</th>\n",
       "      <th>min</th>\n",
       "      <th>max</th>\n",
       "      <th>mediana</th>\n",
       "      <th>desvio padrao</th>\n",
       "      <th>variancia</th>\n",
       "    </tr>\n",
       "    <tr>\n",
       "      <th>munResAlt</th>\n",
       "      <th></th>\n",
       "      <th></th>\n",
       "      <th></th>\n",
       "      <th></th>\n",
       "      <th></th>\n",
       "      <th></th>\n",
       "      <th></th>\n",
       "      <th></th>\n",
       "      <th></th>\n",
       "      <th></th>\n",
       "      <th></th>\n",
       "      <th></th>\n",
       "      <th></th>\n",
       "      <th></th>\n",
       "    </tr>\n",
       "  </thead>\n",
       "  <tbody>\n",
       "    <tr>\n",
       "      <th>(84.999, 111.0]</th>\n",
       "      <td>238367</td>\n",
       "      <td>26.228763</td>\n",
       "      <td>12</td>\n",
       "      <td>47</td>\n",
       "      <td>26.0</td>\n",
       "      <td>6.539797</td>\n",
       "      <td>42.768945</td>\n",
       "      <td>22963.0</td>\n",
       "      <td>32.387870</td>\n",
       "      <td>16.0</td>\n",
       "      <td>73.0</td>\n",
       "      <td>32.0</td>\n",
       "      <td>7.994731</td>\n",
       "      <td>63.915728</td>\n",
       "    </tr>\n",
       "    <tr>\n",
       "      <th>(111.0, 177.0]</th>\n",
       "      <td>253069</td>\n",
       "      <td>25.923889</td>\n",
       "      <td>11</td>\n",
       "      <td>52</td>\n",
       "      <td>25.0</td>\n",
       "      <td>6.331844</td>\n",
       "      <td>40.092250</td>\n",
       "      <td>89185.0</td>\n",
       "      <td>31.150891</td>\n",
       "      <td>15.0</td>\n",
       "      <td>66.0</td>\n",
       "      <td>30.0</td>\n",
       "      <td>7.815858</td>\n",
       "      <td>61.087636</td>\n",
       "    </tr>\n",
       "    <tr>\n",
       "      <th>(177.0, 595.0]</th>\n",
       "      <td>213801</td>\n",
       "      <td>26.146631</td>\n",
       "      <td>13</td>\n",
       "      <td>53</td>\n",
       "      <td>26.0</td>\n",
       "      <td>6.276696</td>\n",
       "      <td>39.396917</td>\n",
       "      <td>124350.0</td>\n",
       "      <td>30.825483</td>\n",
       "      <td>16.0</td>\n",
       "      <td>86.0</td>\n",
       "      <td>30.0</td>\n",
       "      <td>7.676821</td>\n",
       "      <td>58.933583</td>\n",
       "    </tr>\n",
       "  </tbody>\n",
       "</table>\n",
       "</div>"
      ],
      "text/plain": [
       "                IDADEMAE                                                      \\\n",
       "                    soma      media min max mediana desvio padrao  variancia   \n",
       "munResAlt                                                                      \n",
       "(84.999, 111.0]   238367  26.228763  12  47    26.0      6.539797  42.768945   \n",
       "(111.0, 177.0]    253069  25.923889  11  52    25.0      6.331844  40.092250   \n",
       "(177.0, 595.0]    213801  26.146631  13  53    26.0      6.276696  39.396917   \n",
       "\n",
       "                 IDADEPAI                                               \\\n",
       "                     soma      media   min   max mediana desvio padrao   \n",
       "munResAlt                                                                \n",
       "(84.999, 111.0]   22963.0  32.387870  16.0  73.0    32.0      7.994731   \n",
       "(111.0, 177.0]    89185.0  31.150891  15.0  66.0    30.0      7.815858   \n",
       "(177.0, 595.0]   124350.0  30.825483  16.0  86.0    30.0      7.676821   \n",
       "\n",
       "                            \n",
       "                 variancia  \n",
       "munResAlt                   \n",
       "(84.999, 111.0]  63.915728  \n",
       "(111.0, 177.0]   61.087636  \n",
       "(177.0, 595.0]   58.933583  "
      ]
     },
     "execution_count": 15,
     "metadata": {},
     "output_type": "execute_result"
    }
   ],
   "source": [
    "sinasc_3.groupby(sinasc_munResAlt, observed=True)[['IDADEMAE', 'IDADEPAI']].agg([\n",
    "    ('soma', 'sum'), ('media', 'mean'), 'min', 'max', ('mediana', 'median'), ('desvio padrao', 'std'), ('variancia', 'var')\n",
    "])"
   ]
  },
  {
   "cell_type": "markdown",
   "metadata": {
    "id": "aF1riawJlTuF"
   },
   "source": [
    "### 4. Plote no mesmo grafico ao longo do tempo a idade media das mulheres de cada regiao imediatas de rondonia\n"
   ]
  },
  {
   "cell_type": "code",
   "execution_count": 16,
   "metadata": {
    "id": "6aZM5xKale9c"
   },
   "outputs": [],
   "source": [
    "imediatas = {\n",
    "    \"Candeias do Jamari\": \"Porto Velho\",\n",
    "    \"Guajará-Mirim\": \"Porto Velho\",\n",
    "    \"Itapuã do Oeste\": \"Porto Velho\",\n",
    "    \"Nova Mamoré\": \"Porto Velho\",\n",
    "    \"Porto Velho\": \"Porto Velho\",\n",
    "    \"Ariquemes\": \"Ariquemes\",\n",
    "    \"Alto Paraíso\": \"Ariquemes\",\n",
    "    \"Buritis\": \"Ariquemes\",\n",
    "    \"Cacaulândia\": \"Ariquemes\",\n",
    "    \"Campo Novo de Rondônia\": \"Ariquemes\",\n",
    "    \"Cujubim\": \"Ariquemes\",\n",
    "    \"Monte Negro\": \"Ariquemes\",\n",
    "    \"Rio Crespo\": \"Ariquemes\",\n",
    "    \"Jaru\": \"Jaru\",\n",
    "    \"Governador Jorge Teixeira\": \"Jaru\",\n",
    "    \"Machadinho D'Oeste\": \"Jaru\",\n",
    "    \"Theobroma\": \"Jaru\",\n",
    "    \"Vale do Anari\": \"Jaru\",\n",
    "    \"Alvorada D'Oeste\": \"Ji-Paraná\",\n",
    "    \"Costa Marques\": \"Ji-Paraná\",\n",
    "    \"Ji-Paraná\": \"Ji-Paraná\",\n",
    "    \"Mirante da Serra\": \"Ji-Paraná\",\n",
    "    \"Nova União\": \"Ji-Paraná\",\n",
    "    \"Ouro Preto do Oeste\": \"Ji-Paraná\",\n",
    "    \"Presidente Médici\": \"Ji-Paraná\",\n",
    "    \"São Francisco do Guaporé\": \"Ji-Paraná\",\n",
    "    \"São Miguel do Guaporé\": \"Ji-Paraná\",\n",
    "    \"Seringueiras\": \"Ji-Paraná\",\n",
    "    \"Teixeirópolis\": \"Ji-Paraná\",\n",
    "    \"Urupá\": \"Ji-Paraná\",\n",
    "    \"Vale do Paraíso\": \"Ji-Paraná\",\n",
    "    \"Cacoal\": \"Cacoal\",\n",
    "    \"Alta Floresta D'Oeste\": \"Cacoal\",\n",
    "    \"Alto Alegre dos Parecis\": \"Cacoal\",\n",
    "    \"Castanheiras\": \"Cacoal\",\n",
    "    \"Espigão D'Oeste\": \"Cacoal\",\n",
    "    \"Ministro Andreazza\": \"Cacoal\",\n",
    "    \"Nova Brasilândia D'Oeste\": \"Cacoal\",\n",
    "    \"Novo Horizonte do Oeste\": \"Cacoal\",\n",
    "    \"Parecis\": \"Cacoal\",\n",
    "    \"Pimenta Bueno\": \"Cacoal\",\n",
    "    \"Primavera de Rondônia\": \"Cacoal\",\n",
    "    \"Rolim de Moura\": \"Cacoal\",\n",
    "    \"Santa Luzia D'Oeste\": \"Cacoal\",\n",
    "    \"São Felipe D'Oeste\": \"Cacoal\",\n",
    "    \"Vilhena\": \"Vilhena\",\n",
    "    \"Cabixi\": \"Vilhena\",\n",
    "    \"Cerejeiras\": \"Vilhena\",\n",
    "    \"Chupinguaia\": \"Vilhena\",\n",
    "    \"Colorado do Oeste\": \"Vilhena\",\n",
    "    \"Corumbiara\": \"Vilhena\",\n",
    "    \"Pimenteiras do Oeste\": \"Vilhena\"\n",
    "}"
   ]
  },
  {
   "cell_type": "code",
   "execution_count": 17,
   "metadata": {},
   "outputs": [],
   "source": [
    "sinasc_4 = sinasc_raw[['munResNome','DTNASC','IDADEMAE']].copy()"
   ]
  },
  {
   "cell_type": "code",
   "execution_count": 18,
   "metadata": {},
   "outputs": [],
   "source": [
    "sinasc_4['RegImed'] = sinasc_raw['munResNome'].map(imediatas)"
   ]
  },
  {
   "cell_type": "code",
   "execution_count": 19,
   "metadata": {},
   "outputs": [],
   "source": [
    "sinasc_4['DTNASC'] = pd.to_datetime(sinasc_4['DTNASC'])\n",
    "sinasc_4['ano_mes'] = sinasc_4['DTNASC'].dt.to_period('M')"
   ]
  },
  {
   "cell_type": "code",
   "execution_count": 20,
   "metadata": {},
   "outputs": [],
   "source": [
    "idade_media = sinasc_4.groupby(['ano_mes', 'RegImed'])['IDADEMAE'].mean().unstack()"
   ]
  },
  {
   "cell_type": "code",
   "execution_count": 21,
   "metadata": {},
   "outputs": [
    {
     "data": {
      "image/png": "[encoded data removed]",
      "text/plain": [
       "<Figure size 1500x800 with 1 Axes>"
      ]
     },
     "metadata": {},
     "output_type": "display_data"
    }
   ],
   "source": [
    "idade_media.plot(figsize=(15,8))\n",
    "plt.title('Idade Média das Mães por Região Imediata em Rondônia')\n",
    "plt.xlabel('Ano-Mês')\n",
    "plt.legend(title=\"Região Imediata\", bbox_to_anchor=(1, 1), loc='upper left')\n",
    "plt.ylabel('Idade Média da Mãe')\n",
    "plt.grid(True)\n",
    "\n",
    "ticks = np.arange(24.5, 27.5, 0.1)\n",
    "plt.yticks(ticks)\n",
    "plt.show()"
   ]
  },
  {
   "cell_type": "markdown",
   "metadata": {
    "id": "yt-LIWxblTuF"
   },
   "source": [
    "### 5. Utilize a tabela do link abaixo e crie faixas utilizando o mapping e gere agrupamentos utilizando essas faixas como chave\n"
   ]
  },
  {
   "cell_type": "markdown",
   "metadata": {
    "id": "moZakjgIlTuF"
   },
   "source": [
    "### 5.1 IDH\n",
    "A - https://pt.wikipedia.org/wiki/Lista_de_munic%C3%ADpios_de_Rond%C3%B4nia_por_IDH-M\n"
   ]
  },
  {
   "cell_type": "code",
   "execution_count": 160,
   "metadata": {},
   "outputs": [],
   "source": [
    "sinasc_5 =  sinasc_raw[['IDADEMAE','IDADEPAI','PESO','munResNome','APGAR5']].copy()"
   ]
  },
  {
   "cell_type": "code",
   "execution_count": 161,
   "metadata": {
    "id": "DaJk66_BlTuF"
   },
   "outputs": [],
   "source": [
    "idh = {\n",
    "    'Porto Velho': 'IDH-M alto',\n",
    "    'Vilhena': 'IDH-M alto',\n",
    "    'Cacoal': 'IDH-M alto',\n",
    "    'Ji-Paraná': 'IDH-M alto',\n",
    "    'Pimenta Bueno': 'IDH-M alto',\n",
    "    'Ariquemes': 'IDH-M alto',\n",
    "    'Rolim de Moura': 'IDH-M alto',\n",
    "    'Cerejeiras': 'IDH-M médio',\n",
    "    'Jaru': 'IDH-M médio',\n",
    "    'Colorado do Oeste': 'IDH-M médio',\n",
    "    'Ouro Preto do Oeste': 'IDH-M médio',\n",
    "    \"Espigão D'Oeste\": 'IDH-M médio',\n",
    "    \"Santa Luzia D'Oeste\": 'IDH-M médio',\n",
    "    'Pimenteiras do Oeste': 'IDH-M médio',\n",
    "    'Presidente Médici': 'IDH-M médio',\n",
    "    'Castanheiras': 'IDH-M médio',\n",
    "    'Guajará-Mirim': 'IDH-M médio',\n",
    "    'Chupinguaia': 'IDH-M médio',\n",
    "    'Cabixi': 'IDH-M médio',\n",
    "    'Candeias do Jamari': 'IDH-M médio',\n",
    "    \"São Felipe D'Oeste\": 'IDH-M médio',\n",
    "    'Cacaulândia': 'IDH-M médio',\n",
    "    'São Miguel do Guaporé': 'IDH-M médio',\n",
    "    'Mirante da Serra': 'IDH-M médio',\n",
    "    \"Alvorada D'Oeste\": 'IDH-M médio',\n",
    "    'Teixeirópolis': 'IDH-M médio',\n",
    "    \"Nova Brasilândia D'Oeste\": 'IDH-M médio',\n",
    "    'Rio Crespo': 'IDH-M médio',\n",
    "    'Primavera de Rondônia': 'IDH-M médio',\n",
    "    \"Alta Floresta D'Oeste\": 'IDH-M médio',\n",
    "    'Ministro Andreazza': 'IDH-M médio',\n",
    "    'Novo Horizonte do Oeste': 'IDH-M médio',\n",
    "    'Vale do Paraíso': 'IDH-M médio',\n",
    "    'Alto Paraíso': 'IDH-M médio',\n",
    "    'Parecis': 'IDH-M médio',\n",
    "    'Buritis': 'IDH-M médio',\n",
    "    'Itapuã do Oeste': 'IDH-M médio',\n",
    "    'Corumbiara': 'IDH-M médio',\n",
    "    'Cujubim': 'IDH-M médio',\n",
    "    'Costa Marques': 'IDH-M médio',\n",
    "    'São Francisco do Guaporé': 'IDH-M médio',\n",
    "    'Urupá': 'IDH-M médio',\n",
    "    'Monte Negro': 'IDH-M médio',\n",
    "    'Seringueiras': 'IDH-M baixo',\n",
    "    'Governador Jorge Teixeira': 'IDH-M baixo',\n",
    "    \"Machadinho D'Oeste\": 'IDH-M baixo',\n",
    "    'Campo Novo de Rondônia': 'IDH-M baixo',\n",
    "    'Alto Alegre dos Parecis': 'IDH-M baixo',\n",
    "    'Theobroma': 'IDH-M baixo',\n",
    "    'Nova União': 'IDH-M baixo',\n",
    "    'Nova Mamoré': 'IDH-M baixo',\n",
    "    'Vale do Anari': 'IDH-M baixo'\n",
    "}"
   ]
  },
  {
   "cell_type": "code",
   "execution_count": 162,
   "metadata": {},
   "outputs": [],
   "source": [
    "sinasc_5 = sinasc_5.set_index('munResNome')"
   ]
  },
  {
   "cell_type": "code",
   "execution_count": 163,
   "metadata": {},
   "outputs": [
    {
     "data": {
      "text/html": [
       "<div>\n",
       "<style scoped>\n",
       "    .dataframe tbody tr th:only-of-type {\n",
       "        vertical-align: middle;\n",
       "    }\n",
       "\n",
       "    .dataframe tbody tr th {\n",
       "        vertical-align: top;\n",
       "    }\n",
       "\n",
       "    .dataframe thead th {\n",
       "        text-align: right;\n",
       "    }\n",
       "</style>\n",
       "<table border=\"1\" class=\"dataframe\">\n",
       "  <thead>\n",
       "    <tr style=\"text-align: right;\">\n",
       "      <th></th>\n",
       "      <th>IDADEMAE</th>\n",
       "      <th>IDADEPAI</th>\n",
       "      <th>PESO</th>\n",
       "      <th>APGAR5</th>\n",
       "    </tr>\n",
       "    <tr>\n",
       "      <th>munResNome</th>\n",
       "      <th></th>\n",
       "      <th></th>\n",
       "      <th></th>\n",
       "      <th></th>\n",
       "    </tr>\n",
       "  </thead>\n",
       "  <tbody>\n",
       "    <tr>\n",
       "      <th>Desenvolvimento moderado</th>\n",
       "      <td>21946</td>\n",
       "      <td>6225</td>\n",
       "      <td>21946</td>\n",
       "      <td>21867</td>\n",
       "    </tr>\n",
       "    <tr>\n",
       "      <th>Desenvolvimento regular</th>\n",
       "      <td>5081</td>\n",
       "      <td>1381</td>\n",
       "      <td>5081</td>\n",
       "      <td>5057</td>\n",
       "    </tr>\n",
       "    <tr>\n",
       "      <th>NaN</th>\n",
       "      <td>1</td>\n",
       "      <td>1</td>\n",
       "      <td>1</td>\n",
       "      <td>1</td>\n",
       "    </tr>\n",
       "  </tbody>\n",
       "</table>\n",
       "</div>"
      ],
      "text/plain": [
       "                          IDADEMAE  IDADEPAI   PESO  APGAR5\n",
       "munResNome                                                 \n",
       "Desenvolvimento moderado     21946      6225  21946   21867\n",
       "Desenvolvimento regular       5081      1381   5081    5057\n",
       "NaN                              1         1      1       1"
      ]
     },
     "execution_count": 163,
     "metadata": {},
     "output_type": "execute_result"
    }
   ],
   "source": [
    "sinasc_5.groupby(ifdm , dropna=False).count()"
   ]
  },
  {
   "cell_type": "code",
   "execution_count": 165,
   "metadata": {},
   "outputs": [
    {
     "data": {
      "text/html": [
       "<div>\n",
       "<style scoped>\n",
       "    .dataframe tbody tr th:only-of-type {\n",
       "        vertical-align: middle;\n",
       "    }\n",
       "\n",
       "    .dataframe tbody tr th {\n",
       "        vertical-align: top;\n",
       "    }\n",
       "\n",
       "    .dataframe thead th {\n",
       "        text-align: right;\n",
       "    }\n",
       "</style>\n",
       "<table border=\"1\" class=\"dataframe\">\n",
       "  <thead>\n",
       "    <tr style=\"text-align: right;\">\n",
       "      <th></th>\n",
       "      <th>IDADEMAE</th>\n",
       "      <th>IDADEPAI</th>\n",
       "      <th>PESO</th>\n",
       "      <th>APGAR5</th>\n",
       "    </tr>\n",
       "    <tr>\n",
       "      <th>munResNome</th>\n",
       "      <th></th>\n",
       "      <th></th>\n",
       "      <th></th>\n",
       "      <th></th>\n",
       "    </tr>\n",
       "  </thead>\n",
       "  <tbody>\n",
       "    <tr>\n",
       "      <th>IDH-M alto</th>\n",
       "      <td>26.28</td>\n",
       "      <td>31.07</td>\n",
       "      <td>3245.62</td>\n",
       "      <td>9.17</td>\n",
       "    </tr>\n",
       "    <tr>\n",
       "      <th>IDH-M baixo</th>\n",
       "      <td>25.33</td>\n",
       "      <td>30.62</td>\n",
       "      <td>3231.46</td>\n",
       "      <td>9.17</td>\n",
       "    </tr>\n",
       "    <tr>\n",
       "      <th>IDH-M médio</th>\n",
       "      <td>25.88</td>\n",
       "      <td>31.21</td>\n",
       "      <td>3240.85</td>\n",
       "      <td>9.20</td>\n",
       "    </tr>\n",
       "    <tr>\n",
       "      <th>NaN</th>\n",
       "      <td>24.00</td>\n",
       "      <td>22.00</td>\n",
       "      <td>3215.00</td>\n",
       "      <td>10.00</td>\n",
       "    </tr>\n",
       "  </tbody>\n",
       "</table>\n",
       "</div>"
      ],
      "text/plain": [
       "             IDADEMAE  IDADEPAI     PESO  APGAR5\n",
       "munResNome                                      \n",
       "IDH-M alto      26.28     31.07  3245.62    9.17\n",
       "IDH-M baixo     25.33     30.62  3231.46    9.17\n",
       "IDH-M médio     25.88     31.21  3240.85    9.20\n",
       "NaN             24.00     22.00  3215.00   10.00"
      ]
     },
     "execution_count": 165,
     "metadata": {},
     "output_type": "execute_result"
    }
   ],
   "source": [
    "sinasc_5.groupby(idh , dropna=False).mean().round(2)"
   ]
  },
  {
   "cell_type": "markdown",
   "metadata": {
    "id": "zhtI6CxtlTuH"
   },
   "source": [
    "### 5.2 IFDM\n",
    "B - https://pt.wikipedia.org/wiki/Lista_de_munic%C3%ADpios_de_Rond%C3%B4nia_por_IFDM\n"
   ]
  },
  {
   "cell_type": "code",
   "execution_count": 166,
   "metadata": {
    "id": "1AVkd1M3lTuI"
   },
   "outputs": [],
   "source": [
    "ifdm = {\n",
    "    'Ariquemes': 'Desenvolvimento moderado',\n",
    "    'Vilhena': 'Desenvolvimento moderado',\n",
    "    'Pimenta Bueno': 'Desenvolvimento moderado',\n",
    "    'Porto Velho': 'Desenvolvimento moderado',\n",
    "    'Ji-Paraná': 'Desenvolvimento moderado',\n",
    "    'Cacoal': 'Desenvolvimento moderado',\n",
    "    \"Santa Luzia D'Oeste\": 'Desenvolvimento moderado',\n",
    "    'Rolim de Moura': 'Desenvolvimento moderado',\n",
    "    'Chupinguaia': 'Desenvolvimento moderado',\n",
    "    'São Miguel do Guaporé': 'Desenvolvimento moderado',\n",
    "    'Pimenteiras do Oeste': 'Desenvolvimento moderado',\n",
    "    'Teixeirópolis': 'Desenvolvimento moderado',\n",
    "    'Colorado do Oeste': 'Desenvolvimento moderado',\n",
    "    'Jaru': 'Desenvolvimento moderado',\n",
    "    'Rio Crespo': 'Desenvolvimento moderado',\n",
    "    'Primavera de Rondônia': 'Desenvolvimento moderado',\n",
    "    \"Alta Floresta D'Oeste\": 'Desenvolvimento moderado',\n",
    "    'Ouro Preto do Oeste': 'Desenvolvimento moderado',\n",
    "    'São Francisco do Guaporé': 'Desenvolvimento moderado',\n",
    "    'Candeias do Jamari': 'Desenvolvimento moderado',\n",
    "    'Buritis': 'Desenvolvimento moderado',\n",
    "    \"São Felipe D'Oeste\": 'Desenvolvimento moderado',\n",
    "    'Presidente Médici': 'Desenvolvimento moderado',\n",
    "    'Cerejeiras': 'Desenvolvimento moderado',\n",
    "    'Monte Negro': 'Desenvolvimento moderado',\n",
    "    'Urupá': 'Desenvolvimento moderado',\n",
    "    \"Espigão D'Oeste\": 'Desenvolvimento regular',\n",
    "    'Seringueiras': 'Desenvolvimento regular',\n",
    "    \"Alvorada D'Oeste\": 'Desenvolvimento regular',\n",
    "    'Itapuã do Oeste': 'Desenvolvimento regular',\n",
    "    'Cabixi': 'Desenvolvimento regular',\n",
    "    'Novo Horizonte do Oeste': 'Desenvolvimento regular',\n",
    "    \"Nova Brasilândia D'Oeste\": 'Desenvolvimento regular',\n",
    "    'Vale do Paraíso': 'Desenvolvimento regular',\n",
    "    'Corumbiara': 'Desenvolvimento regular',\n",
    "    'Alto Paraíso': 'Desenvolvimento regular',\n",
    "    'Cacaulândia': 'Desenvolvimento regular',\n",
    "    'Vale do Anari': 'Desenvolvimento regular',\n",
    "    'Ministro Andreazza': 'Desenvolvimento regular',\n",
    "    'Costa Marques': 'Desenvolvimento regular',\n",
    "    'Nova União': 'Desenvolvimento regular',\n",
    "    'Guajará-Mirim': 'Desenvolvimento regular',\n",
    "    'Mirante da Serra': 'Desenvolvimento regular',\n",
    "    'Parecis': 'Desenvolvimento regular',\n",
    "    'Castanheiras': 'Desenvolvimento regular',\n",
    "    'Theobroma': 'Desenvolvimento regular',\n",
    "    \"Machadinho D'Oeste\": 'Desenvolvimento regular',\n",
    "    'Campo Novo de Rondônia': 'Desenvolvimento regular',\n",
    "    'Nova Mamoré': 'Desenvolvimento regular',\n",
    "    'Cujubim': 'Desenvolvimento regular',\n",
    "    'Alto Alegre dos Parecis': 'Desenvolvimento regular',\n",
    "    'Governador Jorge Teixeira': 'Desenvolvimento regular'\n",
    "}"
   ]
  },
  {
   "cell_type": "code",
   "execution_count": 167,
   "metadata": {},
   "outputs": [
    {
     "data": {
      "text/html": [
       "<div>\n",
       "<style scoped>\n",
       "    .dataframe tbody tr th:only-of-type {\n",
       "        vertical-align: middle;\n",
       "    }\n",
       "\n",
       "    .dataframe tbody tr th {\n",
       "        vertical-align: top;\n",
       "    }\n",
       "\n",
       "    .dataframe thead th {\n",
       "        text-align: right;\n",
       "    }\n",
       "</style>\n",
       "<table border=\"1\" class=\"dataframe\">\n",
       "  <thead>\n",
       "    <tr style=\"text-align: right;\">\n",
       "      <th></th>\n",
       "      <th>IDADEMAE</th>\n",
       "      <th>IDADEPAI</th>\n",
       "      <th>PESO</th>\n",
       "      <th>APGAR5</th>\n",
       "    </tr>\n",
       "    <tr>\n",
       "      <th>munResNome</th>\n",
       "      <th></th>\n",
       "      <th></th>\n",
       "      <th></th>\n",
       "      <th></th>\n",
       "    </tr>\n",
       "  </thead>\n",
       "  <tbody>\n",
       "    <tr>\n",
       "      <th>Desenvolvimento moderado</th>\n",
       "      <td>21946</td>\n",
       "      <td>6225</td>\n",
       "      <td>21946</td>\n",
       "      <td>21867</td>\n",
       "    </tr>\n",
       "    <tr>\n",
       "      <th>Desenvolvimento regular</th>\n",
       "      <td>5081</td>\n",
       "      <td>1381</td>\n",
       "      <td>5081</td>\n",
       "      <td>5057</td>\n",
       "    </tr>\n",
       "    <tr>\n",
       "      <th>NaN</th>\n",
       "      <td>1</td>\n",
       "      <td>1</td>\n",
       "      <td>1</td>\n",
       "      <td>1</td>\n",
       "    </tr>\n",
       "  </tbody>\n",
       "</table>\n",
       "</div>"
      ],
      "text/plain": [
       "                          IDADEMAE  IDADEPAI   PESO  APGAR5\n",
       "munResNome                                                 \n",
       "Desenvolvimento moderado     21946      6225  21946   21867\n",
       "Desenvolvimento regular       5081      1381   5081    5057\n",
       "NaN                              1         1      1       1"
      ]
     },
     "execution_count": 167,
     "metadata": {},
     "output_type": "execute_result"
    }
   ],
   "source": [
    "sinasc_5.groupby(ifdm , dropna=False).count()"
   ]
  },
  {
   "cell_type": "code",
   "execution_count": 168,
   "metadata": {},
   "outputs": [
    {
     "data": {
      "text/html": [
       "<div>\n",
       "<style scoped>\n",
       "    .dataframe tbody tr th:only-of-type {\n",
       "        vertical-align: middle;\n",
       "    }\n",
       "\n",
       "    .dataframe tbody tr th {\n",
       "        vertical-align: top;\n",
       "    }\n",
       "\n",
       "    .dataframe thead th {\n",
       "        text-align: right;\n",
       "    }\n",
       "</style>\n",
       "<table border=\"1\" class=\"dataframe\">\n",
       "  <thead>\n",
       "    <tr style=\"text-align: right;\">\n",
       "      <th></th>\n",
       "      <th>IDADEMAE</th>\n",
       "      <th>IDADEPAI</th>\n",
       "      <th>PESO</th>\n",
       "      <th>APGAR5</th>\n",
       "    </tr>\n",
       "    <tr>\n",
       "      <th>munResNome</th>\n",
       "      <th></th>\n",
       "      <th></th>\n",
       "      <th></th>\n",
       "      <th></th>\n",
       "    </tr>\n",
       "  </thead>\n",
       "  <tbody>\n",
       "    <tr>\n",
       "      <th>Desenvolvimento moderado</th>\n",
       "      <td>26.22</td>\n",
       "      <td>31.06</td>\n",
       "      <td>3243.42</td>\n",
       "      <td>9.19</td>\n",
       "    </tr>\n",
       "    <tr>\n",
       "      <th>Desenvolvimento regular</th>\n",
       "      <td>25.54</td>\n",
       "      <td>31.24</td>\n",
       "      <td>3242.20</td>\n",
       "      <td>9.15</td>\n",
       "    </tr>\n",
       "    <tr>\n",
       "      <th>NaN</th>\n",
       "      <td>24.00</td>\n",
       "      <td>22.00</td>\n",
       "      <td>3215.00</td>\n",
       "      <td>10.00</td>\n",
       "    </tr>\n",
       "  </tbody>\n",
       "</table>\n",
       "</div>"
      ],
      "text/plain": [
       "                          IDADEMAE  IDADEPAI     PESO  APGAR5\n",
       "munResNome                                                   \n",
       "Desenvolvimento moderado     26.22     31.06  3243.42    9.19\n",
       "Desenvolvimento regular      25.54     31.24  3242.20    9.15\n",
       "NaN                          24.00     22.00  3215.00   10.00"
      ]
     },
     "execution_count": 168,
     "metadata": {},
     "output_type": "execute_result"
    }
   ],
   "source": [
    "sinasc_5.groupby(ifdm , dropna=False).mean().round(2)"
   ]
  },
  {
   "cell_type": "markdown",
   "metadata": {
    "id": "BwdS46EWlTuI"
   },
   "source": [
    "### 5.3 PIB\n",
    "C - https://pt.wikipedia.org/wiki/Lista_de_munic%C3%ADpios_de_Rond%C3%B4nia_por_PIB\n"
   ]
  },
  {
   "cell_type": "code",
   "execution_count": 169,
   "metadata": {},
   "outputs": [],
   "source": [
    "pib = {\n",
    "    'Porto Velho': 'Acima de 1 Bilhão',\n",
    "    'Ji-Paraná': 'Acima de 1 Bilhão',\n",
    "    'Vilhena': 'Acima de 1 Bilhão',\n",
    "    'Ariquemes': 'Acima de 1 Bilhão',\n",
    "    'Cacoal': 'Acima de 1 Bilhão',\n",
    "    'Jaru': 'Acima de 1 Bilhão',\n",
    "    'Rolim de Moura': 'Acima de 1 Bilhão',\n",
    "    'Pimenta Bueno': 'Acima de 1 Bilhão',\n",
    "    'Guajará-Mirim': 'Acima de 500 Milhões',\n",
    "    'Ouro Preto do Oeste': 'Acima de 500 Milhões',\n",
    "    'Buritis': 'Acima de 500 Milhões',\n",
    "    \"Machadinho D'Oeste\": 'Acima de 500 Milhões',\n",
    "    \"Espigão D'Oeste\": 'Acima de 500 Milhões',\n",
    "    'São Miguel do Guaporé': 'Acima de 500 Milhões',\n",
    "    'Candeias do Jamari': 'Acima de 500 Milhões',\n",
    "    'Nova Mamoré': 'Acima de 500 Milhões',\n",
    "    'Cerejeiras': 'Acima de 500 Milhões',\n",
    "    \"Alta Floresta D'Oeste\": 'Acima de 300 Milhões',\n",
    "    'Presidente Médici': 'Acima de 300 Milhões',\n",
    "    'Cujubim': 'Acima de 300 Milhões',\n",
    "    \"Nova Brasilândia D'Oeste\": 'Acima de 300 Milhões',\n",
    "    'Alto Paraíso': 'Acima de 300 Milhões',\n",
    "    'São Francisco do Guaporé': 'Acima de 300 Milhões',\n",
    "    'Colorado do Oeste': 'Acima de 300 Milhões',\n",
    "    'Monte Negro': 'Acima de 300 Milhões',\n",
    "    'Alto Alegre dos Parecis': 'Acima de 300 Milhões',\n",
    "    'Campo Novo de Rondônia': 'Acima de 300 Milhões',\n",
    "    \"Alvorada D'Oeste\": 'Acima de 300 Milhões',\n",
    "    'Chupinguaia': 'Acima de 100 Milhões',\n",
    "    'Corumbiara': 'Acima de 100 Milhões',\n",
    "    'Ministro Andreazza': 'Acima de 100 Milhões',\n",
    "    'Urupá': 'Acima de 100 Milhões',\n",
    "    'Costa Marques': 'Acima de 100 Milhões',\n",
    "    'Seringueiras': 'Acima de 100 Milhões',\n",
    "    'Mirante da Serra': 'Acima de 100 Milhões',\n",
    "    'Governador Jorge Teixeira': 'Acima de 100 Milhões',\n",
    "    'Theobroma': 'Acima de 100 Milhões',\n",
    "    \"Santa Luzia D'Oeste\": 'Acima de 100 Milhões',\n",
    "    'Novo Horizonte do Oeste': 'Acima de 100 Milhões',\n",
    "    'Itapuã do Oeste': 'Acima de 100 Milhões',\n",
    "    'Vale do Paraíso': 'Acima de 100 Milhões',\n",
    "    'Cacaulândia': 'Acima de 100 Milhões',\n",
    "    'Cabixi': 'Acima de 100 Milhões',\n",
    "    'Vale do Anari': 'Acima de 100 Milhões',\n",
    "    'Nova União': 'Até 100 Milhões',\n",
    "    'Parecis': 'Até 100 Milhões',\n",
    "    'Rio Crespo': 'Até 100 Milhões',\n",
    "    'Pimenteiras do Oeste': 'Até 100 Milhões',\n",
    "    'Teixeirópolis': 'Até 100 Milhões',\n",
    "    \"São Felipe D'Oeste\": 'Até 100 Milhões',\n",
    "    'Castanheiras': 'Até 100 Milhões',\n",
    "    'Primavera de Rondônia': 'Até 100 Milhões'\n",
    "}"
   ]
  },
  {
   "cell_type": "code",
   "execution_count": 170,
   "metadata": {},
   "outputs": [
    {
     "data": {
      "text/html": [
       "<div>\n",
       "<style scoped>\n",
       "    .dataframe tbody tr th:only-of-type {\n",
       "        vertical-align: middle;\n",
       "    }\n",
       "\n",
       "    .dataframe tbody tr th {\n",
       "        vertical-align: top;\n",
       "    }\n",
       "\n",
       "    .dataframe thead th {\n",
       "        text-align: right;\n",
       "    }\n",
       "</style>\n",
       "<table border=\"1\" class=\"dataframe\">\n",
       "  <thead>\n",
       "    <tr style=\"text-align: right;\">\n",
       "      <th></th>\n",
       "      <th>IDADEMAE</th>\n",
       "      <th>IDADEPAI</th>\n",
       "      <th>PESO</th>\n",
       "      <th>APGAR5</th>\n",
       "    </tr>\n",
       "    <tr>\n",
       "      <th>munResNome</th>\n",
       "      <th></th>\n",
       "      <th></th>\n",
       "      <th></th>\n",
       "      <th></th>\n",
       "    </tr>\n",
       "  </thead>\n",
       "  <tbody>\n",
       "    <tr>\n",
       "      <th>Acima de 1 Bilhão</th>\n",
       "      <td>17736</td>\n",
       "      <td>4650</td>\n",
       "      <td>17736</td>\n",
       "      <td>17675</td>\n",
       "    </tr>\n",
       "    <tr>\n",
       "      <th>Acima de 100 Milhões</th>\n",
       "      <td>1952</td>\n",
       "      <td>666</td>\n",
       "      <td>1952</td>\n",
       "      <td>1944</td>\n",
       "    </tr>\n",
       "    <tr>\n",
       "      <th>Acima de 300 Milhões</th>\n",
       "      <td>2604</td>\n",
       "      <td>933</td>\n",
       "      <td>2604</td>\n",
       "      <td>2602</td>\n",
       "    </tr>\n",
       "    <tr>\n",
       "      <th>Acima de 500 Milhões</th>\n",
       "      <td>4304</td>\n",
       "      <td>1087</td>\n",
       "      <td>4304</td>\n",
       "      <td>4272</td>\n",
       "    </tr>\n",
       "    <tr>\n",
       "      <th>Até 100 Milhões</th>\n",
       "      <td>431</td>\n",
       "      <td>270</td>\n",
       "      <td>431</td>\n",
       "      <td>431</td>\n",
       "    </tr>\n",
       "    <tr>\n",
       "      <th>NaN</th>\n",
       "      <td>1</td>\n",
       "      <td>1</td>\n",
       "      <td>1</td>\n",
       "      <td>1</td>\n",
       "    </tr>\n",
       "  </tbody>\n",
       "</table>\n",
       "</div>"
      ],
      "text/plain": [
       "                      IDADEMAE  IDADEPAI   PESO  APGAR5\n",
       "munResNome                                             \n",
       "Acima de 1 Bilhão        17736      4650  17736   17675\n",
       "Acima de 100 Milhões      1952       666   1952    1944\n",
       "Acima de 300 Milhões      2604       933   2604    2602\n",
       "Acima de 500 Milhões      4304      1087   4304    4272\n",
       "Até 100 Milhões            431       270    431     431\n",
       "NaN                          1         1      1       1"
      ]
     },
     "execution_count": 170,
     "metadata": {},
     "output_type": "execute_result"
    }
   ],
   "source": [
    "sinasc_5.groupby(pib , dropna=False).count()"
   ]
  },
  {
   "cell_type": "code",
   "execution_count": 171,
   "metadata": {},
   "outputs": [
    {
     "data": {
      "text/html": [
       "<div>\n",
       "<style scoped>\n",
       "    .dataframe tbody tr th:only-of-type {\n",
       "        vertical-align: middle;\n",
       "    }\n",
       "\n",
       "    .dataframe tbody tr th {\n",
       "        vertical-align: top;\n",
       "    }\n",
       "\n",
       "    .dataframe thead th {\n",
       "        text-align: right;\n",
       "    }\n",
       "</style>\n",
       "<table border=\"1\" class=\"dataframe\">\n",
       "  <thead>\n",
       "    <tr style=\"text-align: right;\">\n",
       "      <th></th>\n",
       "      <th>IDADEMAE</th>\n",
       "      <th>IDADEPAI</th>\n",
       "      <th>PESO</th>\n",
       "      <th>APGAR5</th>\n",
       "    </tr>\n",
       "    <tr>\n",
       "      <th>munResNome</th>\n",
       "      <th></th>\n",
       "      <th></th>\n",
       "      <th></th>\n",
       "      <th></th>\n",
       "    </tr>\n",
       "  </thead>\n",
       "  <tbody>\n",
       "    <tr>\n",
       "      <th>Acima de 1 Bilhão</th>\n",
       "      <td>26.27</td>\n",
       "      <td>31.11</td>\n",
       "      <td>3247.22</td>\n",
       "      <td>9.17</td>\n",
       "    </tr>\n",
       "    <tr>\n",
       "      <th>Acima de 100 Milhões</th>\n",
       "      <td>25.66</td>\n",
       "      <td>31.60</td>\n",
       "      <td>3248.53</td>\n",
       "      <td>9.17</td>\n",
       "    </tr>\n",
       "    <tr>\n",
       "      <th>Acima de 300 Milhões</th>\n",
       "      <td>25.69</td>\n",
       "      <td>30.25</td>\n",
       "      <td>3227.38</td>\n",
       "      <td>9.13</td>\n",
       "    </tr>\n",
       "    <tr>\n",
       "      <th>Acima de 500 Milhões</th>\n",
       "      <td>25.78</td>\n",
       "      <td>31.32</td>\n",
       "      <td>3239.46</td>\n",
       "      <td>9.27</td>\n",
       "    </tr>\n",
       "    <tr>\n",
       "      <th>Até 100 Milhões</th>\n",
       "      <td>26.52</td>\n",
       "      <td>31.59</td>\n",
       "      <td>3186.26</td>\n",
       "      <td>9.13</td>\n",
       "    </tr>\n",
       "    <tr>\n",
       "      <th>NaN</th>\n",
       "      <td>24.00</td>\n",
       "      <td>22.00</td>\n",
       "      <td>3215.00</td>\n",
       "      <td>10.00</td>\n",
       "    </tr>\n",
       "  </tbody>\n",
       "</table>\n",
       "</div>"
      ],
      "text/plain": [
       "                      IDADEMAE  IDADEPAI     PESO  APGAR5\n",
       "munResNome                                               \n",
       "Acima de 1 Bilhão        26.27     31.11  3247.22    9.17\n",
       "Acima de 100 Milhões     25.66     31.60  3248.53    9.17\n",
       "Acima de 300 Milhões     25.69     30.25  3227.38    9.13\n",
       "Acima de 500 Milhões     25.78     31.32  3239.46    9.27\n",
       "Até 100 Milhões          26.52     31.59  3186.26    9.13\n",
       "NaN                      24.00     22.00  3215.00   10.00"
      ]
     },
     "execution_count": 171,
     "metadata": {},
     "output_type": "execute_result"
    }
   ],
   "source": [
    "sinasc_5.groupby(pib , dropna=False).mean().round(2)"
   ]
  },
  {
   "cell_type": "markdown",
   "metadata": {},
   "source": [
    "**Agora vamos verificar o resultado da média de cada um dos mappings**"
   ]
  },
  {
   "cell_type": "markdown",
   "metadata": {},
   "source": [
    "IDH"
   ]
  },
  {
   "cell_type": "code",
   "execution_count": 172,
   "metadata": {},
   "outputs": [
    {
     "data": {
      "text/html": [
       "<div>\n",
       "<style scoped>\n",
       "    .dataframe tbody tr th:only-of-type {\n",
       "        vertical-align: middle;\n",
       "    }\n",
       "\n",
       "    .dataframe tbody tr th {\n",
       "        vertical-align: top;\n",
       "    }\n",
       "\n",
       "    .dataframe thead th {\n",
       "        text-align: right;\n",
       "    }\n",
       "</style>\n",
       "<table border=\"1\" class=\"dataframe\">\n",
       "  <thead>\n",
       "    <tr style=\"text-align: right;\">\n",
       "      <th></th>\n",
       "      <th>IDADEMAE</th>\n",
       "      <th>IDADEPAI</th>\n",
       "      <th>PESO</th>\n",
       "      <th>APGAR5</th>\n",
       "    </tr>\n",
       "    <tr>\n",
       "      <th>munResNome</th>\n",
       "      <th></th>\n",
       "      <th></th>\n",
       "      <th></th>\n",
       "      <th></th>\n",
       "    </tr>\n",
       "  </thead>\n",
       "  <tbody>\n",
       "    <tr>\n",
       "      <th>IDH-M alto</th>\n",
       "      <td>26.28</td>\n",
       "      <td>31.07</td>\n",
       "      <td>3245.62</td>\n",
       "      <td>9.17</td>\n",
       "    </tr>\n",
       "    <tr>\n",
       "      <th>IDH-M baixo</th>\n",
       "      <td>25.33</td>\n",
       "      <td>30.62</td>\n",
       "      <td>3231.46</td>\n",
       "      <td>9.17</td>\n",
       "    </tr>\n",
       "    <tr>\n",
       "      <th>IDH-M médio</th>\n",
       "      <td>25.88</td>\n",
       "      <td>31.21</td>\n",
       "      <td>3240.85</td>\n",
       "      <td>9.20</td>\n",
       "    </tr>\n",
       "    <tr>\n",
       "      <th>NaN</th>\n",
       "      <td>24.00</td>\n",
       "      <td>22.00</td>\n",
       "      <td>3215.00</td>\n",
       "      <td>10.00</td>\n",
       "    </tr>\n",
       "  </tbody>\n",
       "</table>\n",
       "</div>"
      ],
      "text/plain": [
       "             IDADEMAE  IDADEPAI     PESO  APGAR5\n",
       "munResNome                                      \n",
       "IDH-M alto      26.28     31.07  3245.62    9.17\n",
       "IDH-M baixo     25.33     30.62  3231.46    9.17\n",
       "IDH-M médio     25.88     31.21  3240.85    9.20\n",
       "NaN             24.00     22.00  3215.00   10.00"
      ]
     },
     "execution_count": 172,
     "metadata": {},
     "output_type": "execute_result"
    }
   ],
   "source": [
    "sinasc_5.groupby(idh , dropna=False).mean().round(2)"
   ]
  },
  {
   "cell_type": "markdown",
   "metadata": {},
   "source": [
    "IFDM"
   ]
  },
  {
   "cell_type": "code",
   "execution_count": 173,
   "metadata": {},
   "outputs": [
    {
     "data": {
      "text/html": [
       "<div>\n",
       "<style scoped>\n",
       "    .dataframe tbody tr th:only-of-type {\n",
       "        vertical-align: middle;\n",
       "    }\n",
       "\n",
       "    .dataframe tbody tr th {\n",
       "        vertical-align: top;\n",
       "    }\n",
       "\n",
       "    .dataframe thead th {\n",
       "        text-align: right;\n",
       "    }\n",
       "</style>\n",
       "<table border=\"1\" class=\"dataframe\">\n",
       "  <thead>\n",
       "    <tr style=\"text-align: right;\">\n",
       "      <th></th>\n",
       "      <th>IDADEMAE</th>\n",
       "      <th>IDADEPAI</th>\n",
       "      <th>PESO</th>\n",
       "      <th>APGAR5</th>\n",
       "    </tr>\n",
       "    <tr>\n",
       "      <th>munResNome</th>\n",
       "      <th></th>\n",
       "      <th></th>\n",
       "      <th></th>\n",
       "      <th></th>\n",
       "    </tr>\n",
       "  </thead>\n",
       "  <tbody>\n",
       "    <tr>\n",
       "      <th>Desenvolvimento moderado</th>\n",
       "      <td>26.22</td>\n",
       "      <td>31.06</td>\n",
       "      <td>3243.42</td>\n",
       "      <td>9.19</td>\n",
       "    </tr>\n",
       "    <tr>\n",
       "      <th>Desenvolvimento regular</th>\n",
       "      <td>25.54</td>\n",
       "      <td>31.24</td>\n",
       "      <td>3242.20</td>\n",
       "      <td>9.15</td>\n",
       "    </tr>\n",
       "    <tr>\n",
       "      <th>NaN</th>\n",
       "      <td>24.00</td>\n",
       "      <td>22.00</td>\n",
       "      <td>3215.00</td>\n",
       "      <td>10.00</td>\n",
       "    </tr>\n",
       "  </tbody>\n",
       "</table>\n",
       "</div>"
      ],
      "text/plain": [
       "                          IDADEMAE  IDADEPAI     PESO  APGAR5\n",
       "munResNome                                                   \n",
       "Desenvolvimento moderado     26.22     31.06  3243.42    9.19\n",
       "Desenvolvimento regular      25.54     31.24  3242.20    9.15\n",
       "NaN                          24.00     22.00  3215.00   10.00"
      ]
     },
     "execution_count": 173,
     "metadata": {},
     "output_type": "execute_result"
    }
   ],
   "source": [
    "sinasc_5.groupby(ifdm , dropna=False).mean().round(2)"
   ]
  },
  {
   "cell_type": "markdown",
   "metadata": {},
   "source": [
    "PIB"
   ]
  },
  {
   "cell_type": "code",
   "execution_count": 174,
   "metadata": {},
   "outputs": [
    {
     "data": {
      "text/html": [
       "<div>\n",
       "<style scoped>\n",
       "    .dataframe tbody tr th:only-of-type {\n",
       "        vertical-align: middle;\n",
       "    }\n",
       "\n",
       "    .dataframe tbody tr th {\n",
       "        vertical-align: top;\n",
       "    }\n",
       "\n",
       "    .dataframe thead th {\n",
       "        text-align: right;\n",
       "    }\n",
       "</style>\n",
       "<table border=\"1\" class=\"dataframe\">\n",
       "  <thead>\n",
       "    <tr style=\"text-align: right;\">\n",
       "      <th></th>\n",
       "      <th>IDADEMAE</th>\n",
       "      <th>IDADEPAI</th>\n",
       "      <th>PESO</th>\n",
       "      <th>APGAR5</th>\n",
       "    </tr>\n",
       "    <tr>\n",
       "      <th>munResNome</th>\n",
       "      <th></th>\n",
       "      <th></th>\n",
       "      <th></th>\n",
       "      <th></th>\n",
       "    </tr>\n",
       "  </thead>\n",
       "  <tbody>\n",
       "    <tr>\n",
       "      <th>Acima de 1 Bilhão</th>\n",
       "      <td>26.27</td>\n",
       "      <td>31.11</td>\n",
       "      <td>3247.22</td>\n",
       "      <td>9.17</td>\n",
       "    </tr>\n",
       "    <tr>\n",
       "      <th>Acima de 100 Milhões</th>\n",
       "      <td>25.66</td>\n",
       "      <td>31.60</td>\n",
       "      <td>3248.53</td>\n",
       "      <td>9.17</td>\n",
       "    </tr>\n",
       "    <tr>\n",
       "      <th>Acima de 300 Milhões</th>\n",
       "      <td>25.69</td>\n",
       "      <td>30.25</td>\n",
       "      <td>3227.38</td>\n",
       "      <td>9.13</td>\n",
       "    </tr>\n",
       "    <tr>\n",
       "      <th>Acima de 500 Milhões</th>\n",
       "      <td>25.78</td>\n",
       "      <td>31.32</td>\n",
       "      <td>3239.46</td>\n",
       "      <td>9.27</td>\n",
       "    </tr>\n",
       "    <tr>\n",
       "      <th>Até 100 Milhões</th>\n",
       "      <td>26.52</td>\n",
       "      <td>31.59</td>\n",
       "      <td>3186.26</td>\n",
       "      <td>9.13</td>\n",
       "    </tr>\n",
       "    <tr>\n",
       "      <th>NaN</th>\n",
       "      <td>24.00</td>\n",
       "      <td>22.00</td>\n",
       "      <td>3215.00</td>\n",
       "      <td>10.00</td>\n",
       "    </tr>\n",
       "  </tbody>\n",
       "</table>\n",
       "</div>"
      ],
      "text/plain": [
       "                      IDADEMAE  IDADEPAI     PESO  APGAR5\n",
       "munResNome                                               \n",
       "Acima de 1 Bilhão        26.27     31.11  3247.22    9.17\n",
       "Acima de 100 Milhões     25.66     31.60  3248.53    9.17\n",
       "Acima de 300 Milhões     25.69     30.25  3227.38    9.13\n",
       "Acima de 500 Milhões     25.78     31.32  3239.46    9.27\n",
       "Até 100 Milhões          26.52     31.59  3186.26    9.13\n",
       "NaN                      24.00     22.00  3215.00   10.00"
      ]
     },
     "execution_count": 174,
     "metadata": {},
     "output_type": "execute_result"
    }
   ],
   "source": [
    "sinasc_5.groupby(pib , dropna=False).mean().round(2)"
   ]
  },
  {
   "cell_type": "markdown",
   "metadata": {
    "id": "bdWGW_xtlTuI"
   },
   "source": [
    "### Analise as respostas encontradas, tire algum insight delas, conte pra gente algo encontrado nos dados."
   ]
  },
  {
   "cell_type": "markdown",
   "metadata": {
    "id": "shZvokfBlTuI"
   },
   "source": [
    "Exemplo:\n",
    "- Ah, descobri que a idade mediana das mulheres que deram a luz no ano de 2019 dos municipios com o PIB mais alto é a maior dentre todas."
   ]
  },
  {
   "cell_type": "markdown",
   "metadata": {
    "id": "f8P7BYYglTuJ"
   },
   "source": [
    "Notei que a idade das mães em cidades com o IDH e IFDM com maior desenvolvimento são ligeiramente mais velhas, podendo sugerir que as mulheres em cidades com maior IDH/IFDM tendem a dar mais importância para educação e trabalho."
   ]
  }
 ],
 "metadata": {
  "colab": {
   "provenance": []
  },
  "kernelspec": {
   "display_name": "Python 3 (ipykernel)",
   "language": "python",
   "name": "python3"
  },
  "language_info": {
   "codemirror_mode": {
    "name": "ipython",
    "version": 3
   },
   "file_extension": ".py",
   "mimetype": "text/x-python",
   "name": "python",
   "nbconvert_exporter": "python",
   "pygments_lexer": "ipython3",
   "version": "3.12.7"
  },
  "varInspector": {
   "cols": {
    "lenName": 16,
    "lenType": 16,
    "lenVar": 40
   },
   "kernels_config": {
    "python": {
     "delete_cmd_postfix": "",
     "delete_cmd_prefix": "del ",
     "library": "var_list.py",
     "varRefreshCmd": "print(var_dic_list())"
    },
    "r": {
     "delete_cmd_postfix": ") ",
     "delete_cmd_prefix": "rm(",
     "library": "var_list.r",
     "varRefreshCmd": "cat(var_dic_list()) "
    }
   },
   "types_to_exclude": [
    "module",
    "function",
    "builtin_function_or_method",
    "instance",
    "_Feature"
   ],
   "window_display": false
  }
 },
 "nbformat": 4,
 "nbformat_minor": 4
}
